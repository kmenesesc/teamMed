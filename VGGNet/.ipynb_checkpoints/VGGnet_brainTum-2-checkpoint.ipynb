{
 "cells": [
  {
   "cell_type": "code",
   "execution_count": null,
   "metadata": {
    "collapsed": true
   },
   "outputs": [],
   "source": [
    "from glob import glob\n",
    "import os\n",
    "from PIL import Image\n",
    "import numpy as np\n",
    "import matplotlib.pyplot as plt\n",
    "import shutil\n",
    "import imageio\n",
    "import torchvision\n",
    "from torchvision import transforms\n",
    "from torchvision import models\n",
    "import torch\n",
    "from torch.autograd import Variable\n",
    "import torch.nn as nn\n",
    "import torch.nn.functional as F\n",
    "from torch.optim import lr_scheduler\n",
    "from torch import optim\n",
    "from torchvision.datasets import ImageFolder\n",
    "from torchvision.utils import make_grid\n",
    "from torch.utils.data import Dataset,DataLoader\n",
    "from torch.utils.data.sampler import SubsetRandomSampler\n",
    "import time\n",
    "from matplotlib import pyplot as plt\n",
    "%matplotlib inline"
   ]
  },
  {
   "cell_type": "code",
   "execution_count": null,
   "metadata": {
    "collapsed": true
   },
   "outputs": [],
   "source": [
    "\n",
    "def imshow(inp,cmap=None):\n",
    "    \"\"\"Imshow for Tensor.\"\"\"\n",
    "    inp = inp.numpy().transpose((1, 2, 0))\n",
    "    mean = np.array([0.485, 0.456, 0.406])\n",
    "    std = np.array([0.229, 0.224, 0.225])\n",
    "    inp = std * inp + mean\n",
    "    inp = np.clip(inp, 0, 1)\n",
    "    plt.imshow(inp,cmap)\n",
    "   "
   ]
  },
  {
   "cell_type": "markdown",
   "metadata": {},
   "source": [
    "## Check if GPU is present"
   ]
  },
  {
   "cell_type": "code",
   "execution_count": null,
   "metadata": {
    "collapsed": true
   },
   "outputs": [],
   "source": [
    "is_cuda = False\n",
    "if torch.cuda.is_available():\n",
    "    is_cuda = True\n",
    "    "
   ]
  },
  {
   "cell_type": "markdown",
   "metadata": {
    "collapsed": true
   },
   "source": [
    "## Load data into PyTorch tensors"
   ]
  },
  {
   "cell_type": "code",
   "execution_count": null,
   "metadata": {
    "collapsed": true
   },
   "outputs": [],
   "source": [
    "#Load brain tumor data\n",
    "simple_transform = transforms.Compose([transforms.Resize((224,224))\n",
    "                                       ,transforms.ToTensor()\n",
    "                                       ,transforms.Normalize([0.485, 0.456, 0.406], [0.229, 0.224, 0.225])\n",
    "                                      ])\n",
    "\n",
    "train_data_dir = '/datasets/home/75/075/aakumall/Project/assets_final/train/'\n",
    "val_data_dir = '/datasets/home/75/075/aakumall/Project/assets_final/val/'\n",
    "test_data_dir = '/datasets/home/75/075/aakumall/Project/assets_final/test/'\n",
    "train = ImageFolder(train_data_dir, simple_transform)\n",
    "valid = ImageFolder(val_data_dir, simple_transform)\n",
    "test = ImageFolder(test_data_dir, simple_transform)\n",
    "\n"
   ]
  },
  {
   "cell_type": "code",
   "execution_count": null,
   "metadata": {
    "collapsed": true
   },
   "outputs": [],
   "source": [
    "print(train.class_to_idx)\n",
    "print(train.classes) \n",
    "print train.imgs[333] \n",
    "classes = ('C1', 'C2', 'C3')\n"
   ]
  },
  {
   "cell_type": "code",
   "execution_count": null,
   "metadata": {
    "collapsed": true,
    "scrolled": false
   },
   "outputs": [],
   "source": [
    "view_img = imageio.imread('/datasets/home/75/075/aakumall/Project/assets/train/Class1/425.jpg')\n",
    "\n",
    "\n",
    "plt.imshow(np.uint8(view_img))\n",
    "plt.show()\n",
    "\n",
    "imshow(train[333][0])"
   ]
  },
  {
   "cell_type": "markdown",
   "metadata": {},
   "source": [
    "## Create data generators"
   ]
  },
  {
   "cell_type": "code",
   "execution_count": null,
   "metadata": {
    "collapsed": true
   },
   "outputs": [],
   "source": [
    "\n",
    "batch_size = 64\n",
    "\n",
    "#Code to use weighted sampler to get classes with equal probability\n",
    "# class_sample_count = [708, 1426, 930] # dataset has 708 class-1 samples, 1426 class-2 samples,930 class-3 samples\n",
    "# weights = 1 / torch.DoubleTensor(class_sample_count)\n",
    "# sampler = torch.utils.data.sampler.WeightedRandomSampler(weights, batch_size)\n",
    "\n",
    "train_data_loader = torch.utils.data.DataLoader(train,batch_size=batch_size, shuffle = True)\n",
    "valid_data_loader = torch.utils.data.DataLoader(valid,batch_size=32,shuffle=True)\n",
    "test_data_loader = torch.utils.data.DataLoader(test,batch_size=32,num_workers=3)"
   ]
  },
  {
   "cell_type": "markdown",
   "metadata": {
    "collapsed": true
   },
   "source": [
    "## Transfer learning using VGG"
   ]
  },
  {
   "cell_type": "code",
   "execution_count": null,
   "metadata": {
    "collapsed": true
   },
   "outputs": [],
   "source": [
    "vgg = models.vgg16(pretrained=True)"
   ]
  },
  {
   "cell_type": "markdown",
   "metadata": {},
   "source": [
    "## Freeze layers"
   ]
  },
  {
   "cell_type": "code",
   "execution_count": null,
   "metadata": {
    "collapsed": true
   },
   "outputs": [],
   "source": [
    "for param in vgg.features.parameters():\n",
    "    param.requires_grad = False\n",
    "\n",
    "vgg.classifier[6].out_features = 3\n",
    "\n",
    "for layer in vgg.classifier.children():\n",
    "    if(type(layer) == nn.Dropout):\n",
    "        layer.p = 0.6\n",
    "vgg = vgg.cuda()"
   ]
  },
  {
   "cell_type": "code",
   "execution_count": null,
   "metadata": {
    "collapsed": true
   },
   "outputs": [],
   "source": [
    "vgg"
   ]
  },
  {
   "cell_type": "code",
   "execution_count": null,
   "metadata": {
    "collapsed": true
   },
   "outputs": [],
   "source": [
    "optimizer = optim.SGD(vgg.classifier.parameters(),lr=0.0001,momentum=0.5)"
   ]
  },
  {
   "cell_type": "code",
   "execution_count": null,
   "metadata": {
    "collapsed": true
   },
   "outputs": [],
   "source": [
    "def fit(epoch,model,data_loader,phase='training',volatile=False):\n",
    "    \n",
    "    #Check for training or validation phase\n",
    "    if phase == 'training':\n",
    "        model.train()\n",
    "    if phase == 'validation':\n",
    "        model.eval()\n",
    "        volatile=True\n",
    "        \n",
    "    running_loss = 0.0\n",
    "    running_correct = 0\n",
    "    \n",
    "    #Iterate over the data\n",
    "    for batch_idx , (data,target) in enumerate(data_loader):\n",
    "        if is_cuda:\n",
    "            data,target = data.cuda(),target.cuda()\n",
    "        data , target = Variable(data,volatile),Variable(target)\n",
    "        if phase == 'training':\n",
    "            optimizer.zero_grad()\n",
    "        output = model(data)\n",
    "        loss = F.cross_entropy(output,target)\n",
    "        \n",
    "        running_loss += F.cross_entropy(output,target,size_average=False).data[0]\n",
    "        preds = output.data.max(dim=1,keepdim=True)[1]\n",
    "        \n",
    "        running_correct += preds.eq(target.data.view_as(preds)).cpu().sum()\n",
    "        if phase == 'training':\n",
    "            loss.backward()\n",
    "            optimizer.step()\n",
    "    \n",
    "    loss = running_loss/len(data_loader.dataset)\n",
    "    accuracy = 100. * running_correct/len(data_loader.dataset)\n",
    "    \n",
    "    print('{phase} loss is {loss: 5.2} and {phase} accuracy is {running_correct}/{dlen} {accuracy:10.4}'.format(phase = phase,loss = loss, running_correct = running_correct,dlen = len((data_loader.dataset)), accuracy = accuracy))\n",
    "#     print(f'{phase} loss is {loss:{5}.{2}} and {phase} accuracy is {running_correct}/{len(data_loader.dataset)}{accuracy:{10}.{4}}')\n",
    "    return loss,accuracy"
   ]
  },
  {
   "cell_type": "code",
   "execution_count": null,
   "metadata": {
    "collapsed": true,
    "scrolled": true
   },
   "outputs": [],
   "source": [
    "train_losses , train_accuracy = [],[]\n",
    "val_losses , val_accuracy = [],[]\n",
    "for epoch in range(1,4):\n",
    "    epoch_loss, epoch_accuracy = fit(epoch,vgg,train_data_loader,phase='training')\n",
    "    val_epoch_loss , val_epoch_accuracy = fit(epoch,vgg,valid_data_loader,phase='validation')\n",
    "    train_losses.append(epoch_loss)\n",
    "    train_accuracy.append(epoch_accuracy)\n",
    "    val_losses.append(val_epoch_loss)\n",
    "    val_accuracy.append(val_epoch_accuracy)"
   ]
  },
  {
   "cell_type": "code",
   "execution_count": null,
   "metadata": {
    "collapsed": true
   },
   "outputs": [],
   "source": [
    "plt.plot(range(1,len(train_losses)+1),train_losses,'bo',label = 'training loss')\n",
    "plt.plot(range(1,len(val_losses)+1),val_losses,'r',label = 'validation loss')\n",
    "plt.legend()"
   ]
  },
  {
   "cell_type": "code",
   "execution_count": null,
   "metadata": {
    "collapsed": true
   },
   "outputs": [],
   "source": [
    "plt.plot(range(1,len(train_accuracy)+1),train_accuracy,'bo',label = 'train accuracy')\n",
    "plt.plot(range(1,len(val_accuracy)+1),val_accuracy,'r',label = 'val accuracy')\n",
    "plt.legend()"
   ]
  },
  {
   "cell_type": "markdown",
   "metadata": {},
   "source": [
    "# Make predictions"
   ]
  },
  {
   "cell_type": "code",
   "execution_count": null,
   "metadata": {
    "collapsed": true
   },
   "outputs": [],
   "source": [
    "dataiter = iter(test_data_loader)\n",
    "images, labels = dataiter.next()\n",
    "\n",
    "imshow(torchvision.utils.make_grid(images))\n",
    "\n",
    "\n",
    "\n",
    "for i in images:\n",
    "    i = i.unsqueeze(0) #Insert axis for # of images - # of channels, height, width exists\n",
    "#     i = Variable(i) # wrap image tensor into PyTorch variable \n",
    "images = Variable(images)\n",
    "\n",
    "if is_cuda:\n",
    "    images = images.cuda()\n",
    "preds = vgg(images)\n",
    "\n",
    "_, predicted = torch.max(preds, 1)\n",
    "preds = predicted.data.cpu().numpy()\n",
    "print('Predicted: ', ' '.join('%5s' % classes[preds[j]]\n",
    "                             for j in range(64)))"
   ]
  },
  {
   "cell_type": "markdown",
   "metadata": {},
   "source": [
    "### Adjusting dropout"
   ]
  },
  {
   "cell_type": "markdown",
   "metadata": {},
   "source": [
    "### Data augmentation"
   ]
  },
  {
   "cell_type": "raw",
   "metadata": {},
   "source": [
    "train_transform = transforms.Compose([transforms.Resize((224,224))\n",
    "                                       ,transforms.RandomHorizontalFlip()\n",
    "                                       ,transforms.RandomRotation(0.2)\n",
    "                                       ,transforms.ToTensor()\n",
    "                                       ,transforms.Normalize([0.485, 0.456, 0.406], [0.229, 0.224, 0.225])\n",
    "                                      ])\n",
    "\n",
    "train_data_dir = '/datasets/home/75/075/aakumall/Project/assets_final/train/'\n",
    "val_data_dir = '/datasets/home/75/075/aakumall/Project/assets_final/val/'\n",
    "train = ImageFolder(train_data_dir,train_transform)\n",
    "valid = ImageFolder(val_data_dir,train_transform)"
   ]
  },
  {
   "cell_type": "raw",
   "metadata": {},
   "source": [
    "train_data_loader = torch.utils.data.DataLoader(train,batch_size=64,num_workers=3,shuffle=True)\n",
    "valid_data_loader = torch.utils.data.DataLoader(valid,batch_size=32,num_workers=3,shuffle=True)"
   ]
  },
  {
   "cell_type": "raw",
   "metadata": {},
   "source": [
    "for layer in vgg.classifier.children():\n",
    "    if(type(layer) == nn.Dropout):\n",
    "        layer.p = 0.6"
   ]
  },
  {
   "cell_type": "raw",
   "metadata": {},
   "source": [
    "train_losses , train_accuracy = [],[]\n",
    "val_losses , val_accuracy = [],[]\n",
    "for epoch in range(1,10):\n",
    "    epoch_loss, epoch_accuracy = fit(epoch,vgg,train_data_loader,phase='training')\n",
    "    val_epoch_loss , val_epoch_accuracy = fit(epoch,vgg,valid_data_loader,phase='validation')\n",
    "    train_losses.append(epoch_loss)\n",
    "    train_accuracy.append(epoch_accuracy)\n",
    "    val_losses.append(val_epoch_loss)\n",
    "    val_accuracy.append(val_epoch_accuracy)"
   ]
  },
  {
   "cell_type": "markdown",
   "metadata": {},
   "source": [
    "## Calculating preconvoluted features\n"
   ]
  },
  {
   "cell_type": "raw",
   "metadata": {},
   "source": [
    "vgg = models.vgg16(pretrained=True)\n",
    "vgg = vgg.cuda()"
   ]
  },
  {
   "cell_type": "raw",
   "metadata": {},
   "source": [
    "features = vgg.features"
   ]
  },
  {
   "cell_type": "raw",
   "metadata": {},
   "source": [
    "for param in features.parameters(): \n",
    "    param.requires_grad = False\n"
   ]
  },
  {
   "cell_type": "raw",
   "metadata": {},
   "source": [
    "train_data_dir = '/datasets/home/75/075/aakumall/Project/assets/train/'\n",
    "val_data_dir = '/datasets/home/75/075/aakumall/Project/assets/val/'\n",
    "\n",
    "\n",
    "train = ImageFolder(train_data_dir, simple_transform)\n",
    "valid = ImageFolder(val_data_dir, simple_transform)\n",
    "\n",
    "train_data_loader = torch.utils.data.DataLoader(train,batch_size=32,num_workers=3,shuffle=False)\n",
    "valid_data_loader = torch.utils.data.DataLoader(valid,batch_size=8,num_workers=3,shuffle=False)"
   ]
  },
  {
   "cell_type": "raw",
   "metadata": {},
   "source": [
    "def preconvfeat(dataset,model):\n",
    "    conv_features = []\n",
    "    labels_list = []\n",
    "    for data in dataset:\n",
    "        inputs,labels = data\n",
    "        if is_cuda:\n",
    "            inputs , labels = inputs.cuda(),labels.cuda()       \n",
    "        inputs , labels = Variable(inputs),Variable(labels)\n",
    "        output = model(inputs)\n",
    "        conv_features.extend(output.data.cpu().numpy())\n",
    "        labels_list.extend(labels.data.cpu().numpy())\n",
    "    conv_features = np.concatenate([[feat] for feat in conv_features])\n",
    "    \n",
    "    return (conv_features,labels_list)"
   ]
  },
  {
   "cell_type": "raw",
   "metadata": {},
   "source": [
    "conv_feat_train,labels_train = preconvfeat(train_data_loader,features)"
   ]
  },
  {
   "cell_type": "raw",
   "metadata": {},
   "source": [
    "conv_feat_val,labels_val = preconvfeat(valid_data_loader,features)"
   ]
  },
  {
   "cell_type": "raw",
   "metadata": {},
   "source": [
    "class My_dataset(Dataset):\n",
    "    def __init__(self,feat,labels):\n",
    "        self.conv_feat = feat\n",
    "        self.labels = labels\n",
    "    \n",
    "    def __len__(self):\n",
    "        return len(self.conv_feat)\n",
    "    \n",
    "    def __getitem__(self,idx):\n",
    "        return self.conv_feat[idx],self.labels[idx]"
   ]
  },
  {
   "cell_type": "raw",
   "metadata": {},
   "source": [
    "train_feat_dataset = My_dataset(conv_feat_train,labels_train)\n",
    "val_feat_dataset = My_dataset(conv_feat_val,labels_val)"
   ]
  },
  {
   "cell_type": "raw",
   "metadata": {},
   "source": [
    "train_feat_loader = DataLoader(train_feat_dataset,batch_size=64,shuffle=True)\n",
    "val_feat_loader = DataLoader(val_feat_dataset,batch_size=64,shuffle=True)"
   ]
  },
  {
   "cell_type": "raw",
   "metadata": {},
   "source": [
    "def data_gen(conv_feat,labels,batch_size=64,shuffle=True):\n",
    "    labels = np.array(labels)\n",
    "    if shuffle:\n",
    "        index = np.random.permutation(len(conv_feat))\n",
    "        conv_feat = conv_feat[index]\n",
    "        labels = labels[index]\n",
    "    for idx in range(0,len(conv_feat),batch_size):\n",
    "        yield(conv_feat[idx:idx+batch_size],labels[idx:idx+batch_size])"
   ]
  },
  {
   "cell_type": "raw",
   "metadata": {},
   "source": [
    "train_batches = data_gen(conv_feat_train,labels_train)\n",
    "val_batches = data_gen(conv_feat_val,labels_val)"
   ]
  },
  {
   "cell_type": "raw",
   "metadata": {},
   "source": [
    "optimizer = optim.SGD(vgg.classifier.parameters(),lr=0.0001,momentum=0.5)"
   ]
  },
  {
   "cell_type": "raw",
   "metadata": {},
   "source": [
    "def fit_numpy(epoch,model,data_loader,phase='training',volatile=False):\n",
    "    if phase == 'training':\n",
    "        model.train()\n",
    "    if phase == 'validation':\n",
    "        model.eval()\n",
    "        volatile=True\n",
    "    running_loss = 0.0\n",
    "    running_correct = 0\n",
    "    for batch_idx , (data,target) in enumerate(data_loader):\n",
    "        if is_cuda:\n",
    "            data,target = data.cuda(),target.cuda()\n",
    "        data , target = Variable(data,volatile),Variable(target)\n",
    "        if phase == 'training':\n",
    "            optimizer.zero_grad()\n",
    "        data = data.view(data.size(0), -1)\n",
    "        output = model(data)\n",
    "        loss = F.cross_entropy(output,target)\n",
    "        \n",
    "        running_loss += F.cross_entropy(output,target,size_average=False).data[0]\n",
    "        preds = output.data.max(dim=1,keepdim=True)[1]\n",
    "        running_correct += preds.eq(target.data.view_as(preds)).cpu().sum()\n",
    "        if phase == 'training':\n",
    "            loss.backward()\n",
    "            optimizer.step()\n",
    "    \n",
    "    loss = running_loss/len(data_loader.dataset)\n",
    "    accuracy = 100. * running_correct/len(data_loader.dataset)\n",
    "    \n",
    "    print('{phase} loss is {loss: 5.2} and {phase} accuracy is {running_correct}/{dlen} {accuracy:10.4}'.format(phase = phase,loss = loss, running_correct = running_correct,dlen = len((data_loader.dataset)), accuracy = accuracy))\n",
    "#     print(f'{phase} loss is {loss:{5}.{2}} and {phase} accuracy is {running_correct}/{len(data_loader.dataset)}{accuracy:{10}.{4}}')\n",
    "    return loss,accuracy"
   ]
  },
  {
   "cell_type": "raw",
   "metadata": {},
   "source": [
    "%%time\n",
    "train_losses , train_accuracy = [],[]\n",
    "val_losses , val_accuracy = [],[]\n",
    "for epoch in range(1,20):\n",
    "    epoch_loss, epoch_accuracy = fit_numpy(epoch,vgg.classifier,train_feat_loader,phase='training')\n",
    "    val_epoch_loss , val_epoch_accuracy = fit_numpy(epoch,vgg.classifier,val_feat_loader,phase='validation')\n",
    "    train_losses.append(epoch_loss)\n",
    "    train_accuracy.append(epoch_accuracy)\n",
    "    val_losses.append(val_epoch_loss)\n",
    "    val_accuracy.append(val_epoch_accuracy)"
   ]
  },
  {
   "cell_type": "markdown",
   "metadata": {},
   "source": [
    "## Visualizing intermediate CNN layers"
   ]
  },
  {
   "cell_type": "raw",
   "metadata": {},
   "source": [
    "train_data_loader = torch.utils.data.DataLoader(train,batch_size=32,num_workers=3,shuffle=False)\n",
    "img,label = next(iter(train_data_loader))"
   ]
  },
  {
   "cell_type": "raw",
   "metadata": {
    "scrolled": false
   },
   "source": [
    "imshow(img[5])"
   ]
  },
  {
   "cell_type": "raw",
   "metadata": {},
   "source": [
    "img = img[5][None]"
   ]
  },
  {
   "cell_type": "raw",
   "metadata": {},
   "source": [
    "vgg = models.vgg16(pretrained=True).cuda()"
   ]
  },
  {
   "cell_type": "raw",
   "metadata": {},
   "source": [
    "class LayerActivations():\n",
    "    features=None\n",
    "    \n",
    "    def __init__(self,model,layer_num):\n",
    "        self.hook = model[layer_num].register_forward_hook(self.hook_fn)\n",
    "    \n",
    "    def hook_fn(self,module,input,output):\n",
    "        self.features = output.cpu().data.numpy()\n",
    "    \n",
    "    def remove(self):\n",
    "        self.hook.remove()\n",
    "        \n",
    "\n",
    "conv_out = LayerActivations(vgg.features,0)\n",
    "\n",
    "o = vgg(Variable(img.cuda()))\n",
    "\n",
    "conv_out.remove()"
   ]
  },
  {
   "cell_type": "raw",
   "metadata": {},
   "source": [
    "act = conv_out.features"
   ]
  },
  {
   "cell_type": "raw",
   "metadata": {
    "scrolled": false
   },
   "source": [
    "fig = plt.figure(figsize=(20,50))\n",
    "fig.subplots_adjust(left=0,right=1,bottom=0,top=0.8,hspace=0,wspace=0.2)\n",
    "for i in range(30):\n",
    "    ax = fig.add_subplot(12,5,i+1,xticks=[],yticks=[])\n",
    "    ax.imshow(act[0][i])"
   ]
  },
  {
   "cell_type": "raw",
   "metadata": {
    "scrolled": true
   },
   "source": [
    "vgg"
   ]
  },
  {
   "cell_type": "raw",
   "metadata": {},
   "source": [
    "conv_out = LayerActivations(vgg.features,1)\n",
    "\n",
    "o = vgg(Variable(img.cuda()))\n",
    "\n",
    "conv_out.remove()\n",
    "\n",
    "act = conv_out.features\n",
    "\n",
    "fig = plt.figure(figsize=(20,50))\n",
    "fig.subplots_adjust(left=0,right=1,bottom=0,top=0.8,hspace=0,wspace=0.2)\n",
    "for i in range(30):\n",
    "    ax = fig.add_subplot(12,5,i+1,xticks=[],yticks=[])\n",
    "    ax.imshow(act[0][i])"
   ]
  },
  {
   "cell_type": "raw",
   "metadata": {},
   "source": [
    "def imshow(inp):\n",
    "    \"\"\"Imshow for Tensor.\"\"\"\n",
    "    inp = inp.numpy().transpose((1, 2, 0))\n",
    "    mean = np.array([0.485, 0.456, 0.406])\n",
    "    std = np.array([0.229, 0.224, 0.225])\n",
    "    inp = std * inp + mean\n",
    "    inp = np.clip(inp, 0, 1)\n",
    "    plt.imshow(inp)"
   ]
  },
  {
   "cell_type": "raw",
   "metadata": {},
   "source": [
    "conv_out = LayerActivations(vgg.features,1)\n",
    "\n",
    "o = vgg(Variable(img.cuda()))\n",
    "\n",
    "conv_out.remove()\n",
    "\n",
    "act = conv_out.features"
   ]
  },
  {
   "cell_type": "raw",
   "metadata": {},
   "source": [
    "fig = plt.figure(figsize=(20,50))\n",
    "fig.subplots_adjust(left=0,right=1,bottom=0,top=0.8,hspace=0,wspace=0.2)\n",
    "for i in range(30):\n",
    "    ax = fig.add_subplot(12,5,i+1,xticks=[],yticks=[])\n",
    "    ax.imshow(act[0][i])"
   ]
  },
  {
   "cell_type": "markdown",
   "metadata": {},
   "source": [
    "## Visualizing weights"
   ]
  },
  {
   "cell_type": "code",
   "execution_count": null,
   "metadata": {
    "collapsed": true
   },
   "outputs": [],
   "source": [
    "vgg = models.vgg16(pretrained=True).cuda()"
   ]
  },
  {
   "cell_type": "code",
   "execution_count": null,
   "metadata": {
    "collapsed": true
   },
   "outputs": [],
   "source": [
    "vgg.state_dict().keys()"
   ]
  },
  {
   "cell_type": "code",
   "execution_count": null,
   "metadata": {
    "collapsed": true
   },
   "outputs": [],
   "source": [
    "\n",
    "cnn_weights = vgg.state_dict()['features.0.weight'].cpu()"
   ]
  },
  {
   "cell_type": "code",
   "execution_count": null,
   "metadata": {
    "collapsed": true
   },
   "outputs": [],
   "source": [
    "fig = plt.figure(figsize=(30,30))\n",
    "fig.subplots_adjust(left=0,right=1,bottom=0,top=0.8,hspace=0,wspace=0.2)\n",
    "for i in range(30):\n",
    "    ax = fig.add_subplot(12,6,i+1,xticks=[],yticks=[])\n",
    "    imshow(cnn_weights[i])"
   ]
  },
  {
   "cell_type": "code",
   "execution_count": null,
   "metadata": {
    "collapsed": true
   },
   "outputs": [],
   "source": [
    "cnn_weights.shape"
   ]
  },
  {
   "cell_type": "raw",
   "metadata": {},
   "source": []
  }
 ],
 "metadata": {
  "kernelspec": {
   "display_name": "Python 3",
   "language": "python",
   "name": "python3"
  },
  "language_info": {
   "codemirror_mode": {
    "name": "ipython",
    "version": 3
   },
   "file_extension": ".py",
   "mimetype": "text/x-python",
   "name": "python",
   "nbconvert_exporter": "python",
   "pygments_lexer": "ipython3",
   "version": "3.6.3"
  }
 },
 "nbformat": 4,
 "nbformat_minor": 2
}
